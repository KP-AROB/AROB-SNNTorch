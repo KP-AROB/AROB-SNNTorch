{
 "cells": [
  {
   "cell_type": "code",
   "execution_count": 1,
   "metadata": {},
   "outputs": [],
   "source": [
    "from src.datasets.custom import CustomImageFolder\n",
    "from torch.utils.data import DataLoader, WeightedRandomSampler\n",
    "from collections import Counter\n",
    "import torch\n",
    "\n",
    "train_dataset = CustomImageFolder('/mnt/d/datasets/vindr-mammo/data/prepared', train = True)\n",
    "\n",
    "label_counts = Counter(train_dataset.targets)\n",
    "class_weights = {label: 1.0 / count for label,\n",
    "                    count in label_counts.items()}\n",
    "sample_weights = [class_weights[label]\n",
    "                    for _, label in train_dataset.samples]\n",
    "sample_weights_tensor = torch.FloatTensor(sample_weights)\n",
    "sampler = WeightedRandomSampler(weights=sample_weights_tensor, num_samples=len(\n",
    "    sample_weights_tensor), replacement=True)\n",
    "\n",
    "\n",
    "train_loader = DataLoader(train_dataset, batch_size=32,\n",
    "                            pin_memory=True, num_workers=4, sampler=sampler)\n"
   ]
  }
 ],
 "metadata": {
  "kernelspec": {
   "display_name": "norse",
   "language": "python",
   "name": "python3"
  },
  "language_info": {
   "codemirror_mode": {
    "name": "ipython",
    "version": 3
   },
   "file_extension": ".py",
   "mimetype": "text/x-python",
   "name": "python",
   "nbconvert_exporter": "python",
   "pygments_lexer": "ipython3",
   "version": "3.9.20"
  }
 },
 "nbformat": 4,
 "nbformat_minor": 2
}
