{
 "cells": [
  {
   "cell_type": "code",
   "execution_count": 6,
   "metadata": {},
   "outputs": [],
   "source": [
    "from src.datasets.custom import CustomImageFolder\n",
    "from torch.utils.data import DataLoader, WeightedRandomSampler\n",
    "from collections import Counter\n",
    "import torch\n",
    "\n",
    "train_dataset = CustomImageFolder('/mnt/d/datasets/vindr-mammo/data/prepared', train = True)\n",
    "\n",
    "label_counts = Counter(train_dataset.targets)\n",
    "class_weights = {label: 1.0 / count for label,\n",
    "                    count in label_counts.items()}\n",
    "sample_weights = [class_weights[label]\n",
    "                    for _, label in train_dataset.samples]\n",
    "sample_weights_tensor = torch.FloatTensor(sample_weights)\n",
    "sampler = WeightedRandomSampler(weights=sample_weights_tensor, num_samples=len(\n",
    "    sample_weights_tensor), replacement=True)\n",
    "\n",
    "\n",
    "train_loader = DataLoader(train_dataset, batch_size=32,\n",
    "                            pin_memory=True, num_workers=4, sampler=sampler)\n"
   ]
  },
  {
   "cell_type": "code",
   "execution_count": 12,
   "metadata": {},
   "outputs": [],
   "source": [
    "for im, lab in train_loader:\n",
    "    break"
   ]
  },
  {
   "cell_type": "code",
   "execution_count": null,
   "metadata": {},
   "outputs": [
    {
     "data": {
      "text/plain": [
       "tensor([2, 2, 0, 0, 1, 0, 2, 0, 0, 1, 0, 1, 2, 2, 1, 0, 1, 0, 2, 2, 2, 2, 1, 0,\n",
       "        1, 0, 2, 1, 1, 2, 0, 0])"
      ]
     },
     "execution_count": 13,
     "metadata": {},
     "output_type": "execute_result"
    },
    {
     "ename": "",
     "evalue": "",
     "output_type": "error",
     "traceback": [
      "\u001b[1;31mThe Kernel crashed while executing code in the current cell or a previous cell. \n",
      "\u001b[1;31mPlease review the code in the cell(s) to identify a possible cause of the failure. \n",
      "\u001b[1;31mClick <a href='https://aka.ms/vscodeJupyterKernelCrash'>here</a> for more info. \n",
      "\u001b[1;31mView Jupyter <a href='command:jupyter.viewOutput'>log</a> for further details."
     ]
    }
   ],
   "source": [
    "lab"
   ]
  },
  {
   "cell_type": "code",
   "execution_count": 11,
   "metadata": {},
   "outputs": [
    {
     "data": {
      "text/plain": [
       "Counter({1: 14589, 0: 10054, 2: 4708})"
      ]
     },
     "execution_count": 11,
     "metadata": {},
     "output_type": "execute_result"
    }
   ],
   "source": [
    "label_counts"
   ]
  },
  {
   "cell_type": "code",
   "execution_count": null,
   "metadata": {},
   "outputs": [],
   "source": []
  }
 ],
 "metadata": {
  "kernelspec": {
   "display_name": "norse",
   "language": "python",
   "name": "python3"
  },
  "language_info": {
   "codemirror_mode": {
    "name": "ipython",
    "version": 3
   },
   "file_extension": ".py",
   "mimetype": "text/x-python",
   "name": "python",
   "nbconvert_exporter": "python",
   "pygments_lexer": "ipython3",
   "version": "3.10.15"
  }
 },
 "nbformat": 4,
 "nbformat_minor": 2
}
