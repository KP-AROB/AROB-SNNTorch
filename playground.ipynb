{
 "cells": [
  {
   "cell_type": "code",
   "execution_count": 2,
   "metadata": {},
   "outputs": [
    {
     "name": "stdout",
     "output_type": "stream",
     "text": [
      "----------------------------------------------------------------\n",
      "        Layer (type)               Output Shape         Param #\n",
      "================================================================\n",
      "            Conv2d-1           [-1, 16, 26, 26]             160\n",
      "         MaxPool2d-2           [-1, 16, 13, 13]               0\n",
      "             Leaky-3           [-1, 16, 13, 13]               0\n",
      "            Conv2d-4           [-1, 32, 11, 11]           4,640\n",
      "         MaxPool2d-5             [-1, 32, 5, 5]               0\n",
      "             Leaky-6             [-1, 32, 5, 5]               0\n",
      "           Flatten-7                  [-1, 800]               0\n",
      "            Linear-8                   [-1, 10]           8,010\n",
      "             Leaky-9       [[-1, 10], [-1, 10]]               0\n",
      "================================================================\n",
      "Total params: 12,810\n",
      "Trainable params: 12,810\n",
      "Non-trainable params: 0\n",
      "----------------------------------------------------------------\n",
      "Input size (MB): 0.00\n",
      "Forward/backward pass size (MB): 0.17\n",
      "Params size (MB): 0.05\n",
      "Estimated Total Size (MB): 0.22\n",
      "----------------------------------------------------------------\n"
     ]
    }
   ],
   "source": [
    "from torch import nn\n",
    "import torch\n",
    "import snntorch as snn\n",
    "from snntorch import surrogate\n",
    "from snntorch import utils\n",
    "from torchsummary import summary\n",
    "from src.utils.parameters import load_parameters\n",
    "from src.utils.dataloaders import load_mnist_dataloader\n",
    "from snntorch import spikegen\n",
    "from src.utils.parameters import load_fnc\n",
    "\n",
    "encoding = load_fnc('snntorch.spikegen', 'rate')\n",
    "\n",
    "params = load_parameters('./params/mnist.yaml')\n",
    "data_params = params['dataset']['parameters']\n",
    "\n",
    "gpu = torch.cuda.is_available()\n",
    "DEVICE = torch.device(\"cuda\") if gpu else torch.device(\"cpu\")\n",
    "\n",
    "in_shape = (1, 28, 28)\n",
    "in_features = 16\n",
    "out_features = 32\n",
    "k_size = 3\n",
    "spike_grad = surrogate.fast_sigmoid()\n",
    "beta = 0.5\n",
    "num_conv = 2\n",
    "num_steps = 50\n",
    "\n",
    "fc_features = int(\n",
    "    (in_shape[1] - num_conv * k_size + 1 * num_conv) / 2**num_conv) - 1\n",
    "n_class = 10\n",
    "\n",
    "model = nn.Sequential(\n",
    "            nn.Conv2d(in_shape[0], in_features, k_size),\n",
    "            nn.MaxPool2d(2),\n",
    "            snn.Leaky(beta=beta, spike_grad=spike_grad, init_hidden=True),\n",
    "            \n",
    "            nn.Conv2d(in_features, out_features, k_size),\n",
    "            nn.MaxPool2d(2),\n",
    "            snn.Leaky(beta=beta, spike_grad=spike_grad, init_hidden=True),\n",
    "            \n",
    "            nn.Flatten(),\n",
    "            nn.Linear(out_features*fc_features*fc_features, n_class),\n",
    "            snn.Leaky(beta=beta, spike_grad=spike_grad, init_hidden=True, output=True)).to(DEVICE)\n",
    "\n",
    "summary(model, (1, 28, 28))\n",
    "\n",
    "def forward_pass(net, data, num_steps):\n",
    "        spike_data = encoding(data, num_steps=num_steps)\n",
    "        mem_rec = []\n",
    "        spk_rec = []\n",
    "\n",
    "        utils.reset(net)\n",
    "\n",
    "        for t in range(num_steps):\n",
    "            spk_out, mem_out = net(spike_data[t]) \n",
    "            spk_rec.append(spk_out)\n",
    "            mem_rec.append(mem_out)\n",
    "        \n",
    "        return torch.stack(spk_rec), torch.stack(mem_rec)"
   ]
  },
  {
   "cell_type": "code",
   "execution_count": 3,
   "metadata": {},
   "outputs": [],
   "source": [
    "from tqdm import tqdm\n",
    "from snntorch import functional as SF\n",
    "import numpy as np\n",
    "\n",
    "model.train()\n",
    "lr = .001\n",
    "train_dl, test_dl, n = load_mnist_dataloader(data_params, True)\n",
    "\n",
    "optimizer = torch.optim.Adam(model.parameters(),lr=lr)\n",
    "criterion = SF.ce_rate_loss()\n",
    "        \n",
    "losses = []"
   ]
  },
  {
   "cell_type": "code",
   "execution_count": 4,
   "metadata": {},
   "outputs": [
    {
     "name": "stderr",
     "output_type": "stream",
     "text": [
      "                                                                                               \r"
     ]
    }
   ],
   "source": [
    "with tqdm(train_dl, leave=False, desc=\"Running training phase\") as pbar:\n",
    "    for step, (data, targets) in enumerate(train_dl):\n",
    "        data = data.to(DEVICE)\n",
    "        targets = targets.to(DEVICE)\n",
    "        optimizer.zero_grad()\n",
    "        spk_rec, _ = forward_pass(model, data, num_steps)\n",
    "        loss_val = criterion(spk_rec, targets)\n",
    "        loss_val.backward()\n",
    "        optimizer.step()\n",
    "        losses.append(loss_val.item())\n",
    "        pbar.set_description(\n",
    "            f\"Running training phase | loss/train : {np.mean(losses):.4f}\")\n",
    "        pbar.update()"
   ]
  },
  {
   "cell_type": "code",
   "execution_count": 5,
   "metadata": {},
   "outputs": [
    {
     "name": "stderr",
     "output_type": "stream",
     "text": [
      "                                                                      "
     ]
    },
    {
     "name": "stdout",
     "output_type": "stream",
     "text": [
      "Final Accuracy 95.94%\n"
     ]
    },
    {
     "name": "stderr",
     "output_type": "stream",
     "text": [
      "\r"
     ]
    }
   ],
   "source": [
    "with torch.no_grad():\n",
    "    total = 0\n",
    "    acc = 0\n",
    "    model.eval()\n",
    "    with tqdm(test_dl, leave=False, desc=\"Running testing phase\") as pbar:\n",
    "        for data, targets in test_dl:\n",
    "            data = data.to(DEVICE)\n",
    "            targets = targets.to(DEVICE)\n",
    "            spk_rec, _ = forward_pass(model, data, num_steps)\n",
    "            acc += SF.accuracy_rate(spk_rec, targets) * spk_rec.size(1)\n",
    "            total += spk_rec.size(1)\n",
    "            pbar.update()\n",
    "total_acc = round(acc/total * 100, 2)\n",
    "print(f'Final Accuracy {total_acc}%')"
   ]
  },
  {
   "cell_type": "code",
   "execution_count": null,
   "metadata": {},
   "outputs": [],
   "source": []
  }
 ],
 "metadata": {
  "kernelspec": {
   "display_name": "norse",
   "language": "python",
   "name": "python3"
  },
  "language_info": {
   "codemirror_mode": {
    "name": "ipython",
    "version": 3
   },
   "file_extension": ".py",
   "mimetype": "text/x-python",
   "name": "python",
   "nbconvert_exporter": "python",
   "pygments_lexer": "ipython3",
   "version": "3.9.20"
  }
 },
 "nbformat": 4,
 "nbformat_minor": 2
}
