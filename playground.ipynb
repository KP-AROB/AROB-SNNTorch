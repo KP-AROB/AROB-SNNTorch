{
 "cells": [
  {
   "cell_type": "code",
   "execution_count": 1,
   "metadata": {},
   "outputs": [
    {
     "name": "stdout",
     "output_type": "stream",
     "text": [
      "----------------------------------------------------------------\n",
      "        Layer (type)               Output Shape         Param #\n",
      "================================================================\n",
      "            Conv2d-1         [-1, 16, 222, 222]             448\n",
      "         MaxPool2d-2         [-1, 16, 111, 111]               0\n",
      "            Conv2d-3         [-1, 32, 109, 109]           4,640\n",
      "         MaxPool2d-4           [-1, 32, 54, 54]               0\n",
      "            Conv2d-5           [-1, 32, 52, 52]           9,248\n",
      "         MaxPool2d-6           [-1, 32, 26, 26]               0\n",
      "            Conv2d-7           [-1, 64, 24, 24]          18,496\n",
      "         MaxPool2d-8           [-1, 64, 12, 12]               0\n",
      "           Flatten-9                 [-1, 9216]               0\n",
      "           Linear-10                 [-1, 1024]       9,438,208\n",
      "          Dropout-11                 [-1, 1024]               0\n",
      "           Linear-12                    [-1, 4]           4,100\n",
      "================================================================\n",
      "Total params: 9,475,140\n",
      "Trainable params: 9,475,140\n",
      "Non-trainable params: 0\n",
      "----------------------------------------------------------------\n",
      "Input size (MB): 0.57\n",
      "Forward/backward pass size (MB): 12.40\n",
      "Params size (MB): 36.14\n",
      "Estimated Total Size (MB): 49.11\n",
      "----------------------------------------------------------------\n"
     ]
    }
   ],
   "source": [
    "from src.models.cnn import MNET10\n",
    "from torchsummary import summary\n",
    "\n",
    "net = MNET10(3, 4)\n",
    "net.to('cuda')\n",
    "summary(net, (3, 224, 224))"
   ]
  },
  {
   "cell_type": "code",
   "execution_count": null,
   "metadata": {},
   "outputs": [],
   "source": []
  }
 ],
 "metadata": {
  "kernelspec": {
   "display_name": "norse",
   "language": "python",
   "name": "python3"
  },
  "language_info": {
   "codemirror_mode": {
    "name": "ipython",
    "version": 3
   },
   "file_extension": ".py",
   "mimetype": "text/x-python",
   "name": "python",
   "nbconvert_exporter": "python",
   "pygments_lexer": "ipython3",
   "version": "3.10.15"
  }
 },
 "nbformat": 4,
 "nbformat_minor": 2
}
