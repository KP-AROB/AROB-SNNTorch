{
 "cells": [
  {
   "cell_type": "code",
   "execution_count": 1,
   "metadata": {},
   "outputs": [],
   "source": [
    "from src.models.jelly import ShallowCSNN\n",
    "from src.utils.dataloaders import create_dataloaders\n",
    "import matplotlib.pyplot as plt\n",
    "import torch.nn.functional as F\n",
    "from torchmetrics import F1Score, AUROC, Recall, Specificity, Accuracy\n",
    "import torch\n",
    "from src.utils.parameters import instantiate_cls\n",
    "from torchvision import transforms\n",
    "from spikingjelly.activation_based import neuron, functional\n",
    "from src.datasets.custom import CustomImageFolder\n",
    "from torch.utils.data import DataLoader"
   ]
  },
  {
   "cell_type": "code",
   "execution_count": 4,
   "metadata": {},
   "outputs": [],
   "source": [
    "from torch import nn\n",
    "\n",
    "class CNN_F(nn.Module):\n",
    "    def __init__(self, n_input=3, n_output=4, in_size=224):\n",
    "        super(CNN_F, self).__init__()\n",
    "\n",
    "        self.n_input = n_input\n",
    "        self.n_output = n_output\n",
    "        self.in_size = in_size\n",
    "        k_size = 3\n",
    "\n",
    "        self.block1 = nn.Sequential(\n",
    "            nn.Conv2d(n_input, 64, 11, stride = 4, padding = 0),\n",
    "            nn.LeakyReLU(),\n",
    "            nn.LocalResponseNorm(5),\n",
    "            nn.MaxPool2d(2)\n",
    "        )\n",
    "\n",
    "        self.block2 = nn.Sequential(\n",
    "            nn.Conv2d(64, 256, 5, stride = 1, padding = 2),\n",
    "            nn.LeakyReLU(),\n",
    "            nn.LocalResponseNorm(5),\n",
    "            nn.MaxPool2d(2)\n",
    "        )\n",
    "\n",
    "        self.block3 = nn.Sequential(\n",
    "            nn.Conv2d(256, 256, 3, stride = 1, padding = 1),\n",
    "            nn.LeakyReLU(),\n",
    "            nn.LocalResponseNorm(5),\n",
    "        )\n",
    "\n",
    "        self.block4 = nn.Sequential(\n",
    "            nn.Conv2d(256, 256, 3, stride = 1, padding = 1),\n",
    "            nn.LeakyReLU(),\n",
    "            nn.LocalResponseNorm(5),\n",
    "        )\n",
    "        \n",
    "        self.block5 = nn.Sequential(\n",
    "            nn.Conv2d(256, 256, 3, stride = 1, padding = 1),\n",
    "            nn.LeakyReLU(),\n",
    "            nn.LocalResponseNorm(5),\n",
    "            nn.MaxPool2d(2)\n",
    "        )\n",
    "\n",
    "        self.classifier = nn.Sequential(\n",
    "            nn.Flatten(),\n",
    "            nn.Linear(13 * 13 * 256, 4096),\n",
    "            nn.LeakyReLU(),\n",
    "            nn.Dropout(0.5),\n",
    "            nn.Linear(4096, 4096),\n",
    "            nn.LeakyReLU(),\n",
    "            nn.Dropout(0.5),\n",
    "            nn.Linear(4096, n_output)\n",
    "        )\n",
    "\n",
    "    def forward(self, x):\n",
    "        x = self.block1(x)\n",
    "        x = self.block2(x)\n",
    "        x = self.block3(x)\n",
    "        x = self.block4(x)\n",
    "        x = self.classifier(x)\n",
    "        return x\n"
   ]
  },
  {
   "cell_type": "code",
   "execution_count": null,
   "metadata": {},
   "outputs": [
    {
     "name": "stdout",
     "output_type": "stream",
     "text": [
      "----------------------------------------------------------------\n",
      "        Layer (type)               Output Shape         Param #\n",
      "================================================================\n",
      "            Conv2d-1           [-1, 64, 54, 54]           7,808\n",
      "         LeakyReLU-2           [-1, 64, 54, 54]               0\n",
      " LocalResponseNorm-3           [-1, 64, 54, 54]               0\n",
      "         MaxPool2d-4           [-1, 64, 27, 27]               0\n",
      "            Conv2d-5          [-1, 256, 27, 27]         409,856\n",
      "         LeakyReLU-6          [-1, 256, 27, 27]               0\n",
      " LocalResponseNorm-7          [-1, 256, 27, 27]               0\n",
      "         MaxPool2d-8          [-1, 256, 13, 13]               0\n",
      "            Conv2d-9          [-1, 256, 13, 13]         590,080\n",
      "        LeakyReLU-10          [-1, 256, 13, 13]               0\n",
      "LocalResponseNorm-11          [-1, 256, 13, 13]               0\n",
      "           Conv2d-12          [-1, 256, 13, 13]         590,080\n",
      "        LeakyReLU-13          [-1, 256, 13, 13]               0\n",
      "LocalResponseNorm-14          [-1, 256, 13, 13]               0\n",
      "          Flatten-15                [-1, 43264]               0\n",
      "           Linear-16                 [-1, 4096]     177,213,440\n",
      "        LeakyReLU-17                 [-1, 4096]               0\n",
      "          Dropout-18                 [-1, 4096]               0\n",
      "           Linear-19                 [-1, 4096]      16,781,312\n",
      "        LeakyReLU-20                 [-1, 4096]               0\n",
      "          Dropout-21                 [-1, 4096]               0\n",
      "           Linear-22                    [-1, 4]          16,388\n",
      "================================================================\n",
      "Total params: 195,608,964\n",
      "Trainable params: 195,608,964\n",
      "Non-trainable params: 0\n",
      "----------------------------------------------------------------\n",
      "Input size (MB): 0.19\n",
      "Forward/backward pass size (MB): 11.73\n",
      "Params size (MB): 746.19\n",
      "Estimated Total Size (MB): 758.11\n",
      "----------------------------------------------------------------\n"
     ]
    },
    {
     "ename": "",
     "evalue": "",
     "output_type": "error",
     "traceback": [
      "\u001b[1;31mThe Kernel crashed while executing code in the current cell or a previous cell. \n",
      "\u001b[1;31mPlease review the code in the cell(s) to identify a possible cause of the failure. \n",
      "\u001b[1;31mClick <a href='https://aka.ms/vscodeJupyterKernelCrash'>here</a> for more info. \n",
      "\u001b[1;31mView Jupyter <a href='command:jupyter.viewOutput'>log</a> for further details."
     ]
    }
   ],
   "source": [
    "from torchsummary import summary\n",
    "\n",
    "model = CNN_F(1, 4, 224).to('cuda')\n",
    "summary(model, (1, 224, 224))"
   ]
  },
  {
   "cell_type": "code",
   "execution_count": null,
   "metadata": {},
   "outputs": [],
   "source": []
  }
 ],
 "metadata": {
  "kernelspec": {
   "display_name": "norse",
   "language": "python",
   "name": "python3"
  },
  "language_info": {
   "codemirror_mode": {
    "name": "ipython",
    "version": 3
   },
   "file_extension": ".py",
   "mimetype": "text/x-python",
   "name": "python",
   "nbconvert_exporter": "python",
   "pygments_lexer": "ipython3",
   "version": "3.10.15"
  }
 },
 "nbformat": 4,
 "nbformat_minor": 2
}
