{
 "cells": [
  {
   "cell_type": "code",
   "execution_count": 1,
   "metadata": {},
   "outputs": [],
   "source": [
    "from src.datasets.custom import CustomImageFolder\n",
    "\n",
    "root = '/mnt/d/datasets/vindr-mammo/data/prepared'\n",
    "dataset = CustomImageFolder(root, train = False)"
   ]
  }
 ],
 "metadata": {
  "kernelspec": {
   "display_name": "norse",
   "language": "python",
   "name": "python3"
  },
  "language_info": {
   "codemirror_mode": {
    "name": "ipython",
    "version": 3
   },
   "file_extension": ".py",
   "mimetype": "text/x-python",
   "name": "python",
   "nbconvert_exporter": "python",
   "pygments_lexer": "ipython3",
   "version": "3.10.15"
  }
 },
 "nbformat": 4,
 "nbformat_minor": 2
}
